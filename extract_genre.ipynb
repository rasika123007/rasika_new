{
  "nbformat": 4,
  "nbformat_minor": 0,
  "metadata": {
    "colab": {
      "private_outputs": true,
      "provenance": [],
      "include_colab_link": true
    },
    "kernelspec": {
      "name": "python3",
      "display_name": "Python 3"
    },
    "language_info": {
      "name": "python"
    }
  },
  "cells": [
    {
      "cell_type": "markdown",
      "metadata": {
        "id": "view-in-github",
        "colab_type": "text"
      },
      "source": [
        "<a href=\"https://colab.research.google.com/github/rasika123007/rasika_new/blob/main/extract_genre.ipynb\" target=\"_parent\"><img src=\"https://colab.research.google.com/assets/colab-badge.svg\" alt=\"Open In Colab\"/></a>"
      ]
    },
    {
      "cell_type": "code",
      "execution_count": null,
      "metadata": {
        "id": "f9hg2I7WsU_s"
      },
      "outputs": [],
      "source": [
        "import pandas as pd\n",
        "import json"
      ]
    },
    {
      "cell_type": "code",
      "source": [
        "df= pd.read_csv('/content/imdb_data.csv')\n",
        "df.head(3)"
      ],
      "metadata": {
        "id": "jvMp1h7p6WHr"
      },
      "execution_count": null,
      "outputs": []
    },
    {
      "cell_type": "code",
      "source": [
        "def func(value, key):\n",
        "    try:\n",
        "        j = eval(value)  # Convert string to list\n",
        "        df = pd.json_normalize(j)  # Flatten JSON into DataFrame\n",
        "        names = list(df[key])  # Extract values of 'name' column\n",
        "        return \",\".join(names)  # Return as comma-separated string\n",
        "    except:\n",
        "        return value  # Return original value if error occurs"
      ],
      "metadata": {
        "id": "o1JcPFG96UBh"
      },
      "execution_count": null,
      "outputs": []
    },
    {
      "cell_type": "code",
      "source": [
        "df.loc[:,'genre_name']=df.loc[:,'genres'].apply(func,key='name')"
      ],
      "metadata": {
        "id": "oJo8nvlg6nIh"
      },
      "execution_count": null,
      "outputs": []
    },
    {
      "cell_type": "code",
      "source": [
        "df"
      ],
      "metadata": {
        "id": "-nfNs3xZ7Ca1"
      },
      "execution_count": null,
      "outputs": []
    },
    {
      "cell_type": "code",
      "source": [
        "\n",
        "df['genres'][1]"
      ],
      "metadata": {
        "id": "kzMrGRQ627Iq"
      },
      "execution_count": null,
      "outputs": []
    },
    {
      "cell_type": "code",
      "source": [
        "genre=\"[{'id': 35, 'name': 'Comedy'}, {'id': 18, 'name': 'Drama'}, {'id': 10751, 'name': 'Family'}, {'id': 10749, 'name': 'Romance'}]\"\n",
        "genre"
      ],
      "metadata": {
        "id": "2jYADO3K2-qo"
      },
      "execution_count": null,
      "outputs": []
    },
    {
      "cell_type": "code",
      "source": [
        "type(genre)"
      ],
      "metadata": {
        "id": "c6yHdp6k4xyo"
      },
      "execution_count": null,
      "outputs": []
    },
    {
      "cell_type": "code",
      "source": [
        "# str to list\n",
        "new_genre=eval(genre)\n",
        "new_genre"
      ],
      "metadata": {
        "id": "1SJZjWjF45iC"
      },
      "execution_count": null,
      "outputs": []
    },
    {
      "cell_type": "code",
      "source": [
        "type(new_genre)"
      ],
      "metadata": {
        "id": "QbVU6whh5C1Q"
      },
      "execution_count": null,
      "outputs": []
    },
    {
      "cell_type": "code",
      "source": [
        "# convert json to dataframe\n",
        "new_data=pd.json_normalize(new_genre)\n",
        "new_data"
      ],
      "metadata": {
        "id": "QTK832nI5Hz-"
      },
      "execution_count": null,
      "outputs": []
    },
    {
      "cell_type": "code",
      "source": [
        "#\n",
        "# get all the names\n",
        "names=list(new_data['name'])#list(df[key])"
      ],
      "metadata": {
        "id": "0d3MHVtX5UKQ"
      },
      "execution_count": null,
      "outputs": []
    },
    {
      "cell_type": "code",
      "source": [
        "\",\".join(names)"
      ],
      "metadata": {
        "id": "Y__tCMgz5jtU"
      },
      "execution_count": null,
      "outputs": []
    },
    {
      "cell_type": "code",
      "source": [
        "def func(genre,key):\n",
        "  try:\n",
        "    value = eval(genre)\n",
        "    data = pd.json_normalize(value)\n",
        "    names=list(data[key])\n",
        "    return \",\".join(names)\n",
        "  except:\n",
        "    return genre"
      ],
      "metadata": {
        "id": "vEdRs2DG6C-s"
      },
      "execution_count": null,
      "outputs": []
    }
  ]
}